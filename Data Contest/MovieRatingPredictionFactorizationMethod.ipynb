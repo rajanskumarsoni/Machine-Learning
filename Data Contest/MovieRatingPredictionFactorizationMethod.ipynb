{
  "nbformat": 4,
  "nbformat_minor": 0,
  "metadata": {
    "colab": {
      "name": "latetVersion1.ipynb",
      "provenance": [],
      "collapsed_sections": [],
      "include_colab_link": true
    },
    "kernelspec": {
      "name": "python3",
      "display_name": "Python 3"
    },
    "accelerator": "GPU"
  },
  "cells": [
    {
      "cell_type": "markdown",
      "metadata": {
        "id": "view-in-github",
        "colab_type": "text"
      },
      "source": [
        "<a href=\"https://colab.research.google.com/github/rajanskumarsoni/Machine-Learning/blob/master/MovieRatingPredictionFactorizationMethod.ipynb\" target=\"_parent\"><img src=\"https://colab.research.google.com/assets/colab-badge.svg\" alt=\"Open In Colab\"/></a>"
      ]
    },
    {
      "cell_type": "code",
      "metadata": {
        "colab_type": "code",
        "outputId": "9ce6f3ef-aebb-4d6e-c5c8-4a68c5b9d12b",
        "id": "JtlDqw-K4H-i",
        "colab": {
          "base_uri": "https://localhost:8080/",
          "height": 168
        }
      },
      "source": [
        "from pydrive.auth import GoogleAuth\n",
        "from pydrive.drive import GoogleDrive\n",
        "from google.colab import auth\n",
        "import pandas as pd\n",
        "import numpy as np\n",
        "from sklearn.metrics import mean_squared_error\n",
        "from sklearn.decomposition import PCA\n",
        "import numpy as np\n",
        "import pickle\n",
        "import copy\n",
        "import warnings\n",
        "from tensorflow.python.ops import rnn_cell_impl\n",
        "import tensorflow as tf #machine learningt\n",
        "from oauth2client.client import GoogleCredentials\n",
        "auth.authenticate_user()\n",
        "gauth = GoogleAuth()\n",
        "gauth.credentials = GoogleCredentials.get_application_default()\n",
        "drive = GoogleDrive(gauth)\n",
        "from google.colab import drive\n",
        "drive.mount('/content/drive')\n",
        "np.random.seed(1234)\n",
        "pd.options.display.max_columns = 10 \n",
        "pd.options.display.width = 20\n",
        "pd.options.display.max_rows = 10\n",
        "train = pd.read_csv('/content/drive/My Drive/prml/train.csv')\n",
        "test = pd.read_csv('/content/drive/My Drive/prml/test.csv')\n",
        "validation = pd.read_csv('/content/drive/My Drive/prml/validation.csv')\n",
        "movies = pd.read_csv('/content/drive/My Drive/prml/movies.csv')\n",
        "sub = pd.read_csv('/content/drive/My Drive/prml/dummy_submission.csv')\n",
        "genome_scores = pd.read_csv('/content/drive/My Drive/prml/genome_scores.csv.zip')\n",
        "genome_attributes = pd.read_csv('/content/drive/My Drive/prml/genome_attributes.csv')\n",
        "# print(genome_scores)\n",
        "# print(genome_attributes)"
      ],
      "execution_count": 1,
      "outputs": [
        {
          "output_type": "display_data",
          "data": {
            "text/html": [
              "<p style=\"color: red;\">\n",
              "The default version of TensorFlow in Colab will soon switch to TensorFlow 2.x.<br>\n",
              "We recommend you <a href=\"https://www.tensorflow.org/guide/migrate\" target=\"_blank\">upgrade</a> now \n",
              "or ensure your notebook will continue to use TensorFlow 1.x via the <code>%tensorflow_version 1.x</code> magic:\n",
              "<a href=\"https://colab.research.google.com/notebooks/tensorflow_version.ipynb\" target=\"_blank\">more info</a>.</p>\n"
            ],
            "text/plain": [
              "<IPython.core.display.HTML object>"
            ]
          },
          "metadata": {
            "tags": []
          }
        },
        {
          "output_type": "stream",
          "text": [
            "Go to this URL in a browser: https://accounts.google.com/o/oauth2/auth?client_id=947318989803-6bn6qk8qdgf4n4g3pfee6491hc0brc4i.apps.googleusercontent.com&redirect_uri=urn%3aietf%3awg%3aoauth%3a2.0%3aoob&response_type=code&scope=email%20https%3a%2f%2fwww.googleapis.com%2fauth%2fdocs.test%20https%3a%2f%2fwww.googleapis.com%2fauth%2fdrive%20https%3a%2f%2fwww.googleapis.com%2fauth%2fdrive.photos.readonly%20https%3a%2f%2fwww.googleapis.com%2fauth%2fpeopleapi.readonly\n",
            "\n",
            "Enter your authorization code:\n",
            "··········\n",
            "Mounted at /content/drive\n"
          ],
          "name": "stdout"
        }
      ]
    },
    {
      "cell_type": "code",
      "metadata": {
        "id": "WL8PTdDSZtJF",
        "colab_type": "code",
        "colab": {}
      },
      "source": [
        "\n",
        "results = set()\n",
        "movies['genres'].str.split('|').apply(results.update)\n",
        "\n",
        "keys = results\n",
        "values = [0,1,2,3,4,5,6,7,8,9,10,12,13,14,15,16,17,18,19]\n",
        "dictionarys = dict(zip(keys, values))\n",
        "\n",
        "\n",
        "genreDictionary = {}\n",
        "count = 0\n",
        "mylist = []\n",
        "for movie in movies['genres']:\n",
        "  \n",
        "  m= movie.split('|')\n",
        "  x = [0] * 20\n",
        "  for k in m:\n",
        "#     print(k)\n",
        "    p = dictionarys[k]\n",
        "#     print(p)\n",
        "    x[p] = 1\n",
        "  genreDictionary[count] = x\n",
        "  count = count +1\n",
        "  mylist.append(x)\n",
        "\n",
        "\n",
        "from sklearn.metrics.pairwise import pairwise_kernels\n",
        "n= pairwise_kernels(mylist, metric='cosine')\n",
        "x = np.array(n)\n",
        "p = np.argsort(x)\n",
        "z = np.flip(p,axis= 1)\n",
        "mbest = z[:,0:100]\n",
        "    \n",
        "   \n",
        "    \n",
        "    \n",
        "    \n",
        "    \n"
      ],
      "execution_count": 0,
      "outputs": []
    },
    {
      "cell_type": "code",
      "metadata": {
        "id": "hiUC9afyknoX",
        "colab_type": "code",
        "colab": {}
      },
      "source": [
        "\n",
        "atrix = genome_scores.pivot('movieId','attributeId','relevance')\n",
        "# print(atrix)\n",
        "from sklearn.metrics.pairwise import pairwise_kernels\n",
        "n= pairwise_kernels(atrix.values, metric='cosine')\n",
        "x = np.array(n)\n",
        "p = np.argsort(x)\n",
        "z = np.flip(p,axis= 1)\n",
        "best_similar_movies = 50\n",
        "kbest = z[:,0:best_similar_movies]\n",
        "# print(kbest[1])\n",
        "indexTomovie ={}\n",
        "movieToindex = {}\n",
        "cheeku = sorted(set(genome_scores['movieId']))\n",
        "# print(cheeku)\n",
        "letscount = 0\n",
        "for cheek in cheeku:\n",
        "  indexTomovie[letscount] = cheek\n",
        "  movieToindex[cheek] = letscount\n",
        "  letscount= letscount + 1\n",
        "  \n",
        "  \n"
      ],
      "execution_count": 0,
      "outputs": []
    },
    {
      "cell_type": "code",
      "metadata": {
        "id": "E0eDiMRwr4G4",
        "colab_type": "code",
        "outputId": "f682fcd8-57b1-451a-f3e5-3af4a413e6c1",
        "colab": {
          "base_uri": "https://localhost:8080/",
          "height": 153
        }
      },
      "source": [
        "##########################################################Latent code\n",
        "\n",
        "valdi = validation\n",
        "valdi.drop(['timestamp'], axis=1)\n",
        "train = train.append(valdi)\n",
        "trainx = train['userId']\n",
        "trainy = train['movieId']\n",
        "uniquex= trainx.unique()\n",
        "uniquey= trainy.unique()\n",
        "uid = train['userId']\n",
        "mid = train['movieId']\n",
        "rating = train['rating']\n",
        "uidvalid = validation['userId']\n",
        "midvalid = validation['movieId']\n",
        "ratingvalid = validation['rating']\n",
        "uitest = test['userId']\n",
        "mitest = test['movieId']\n",
        "# matrix = pd.concat([train,test]).pivot('userId','movieId','rating')\n",
        "\n",
        "# movie_means = matrix.mean()\n",
        "userset = set(trainx)\n",
        "movieset = set(trainy)\n",
        "\n",
        "\n",
        "\n"
      ],
      "execution_count": 4,
      "outputs": [
        {
          "output_type": "stream",
          "text": [
            "/usr/local/lib/python3.6/dist-packages/pandas/core/frame.py:7138: FutureWarning: Sorting because non-concatenation axis is not aligned. A future version\n",
            "of pandas will change to not sort by default.\n",
            "\n",
            "To accept the future behavior, pass 'sort=False'.\n",
            "\n",
            "To retain the current behavior and silence the warning, pass 'sort=True'.\n",
            "\n",
            "  sort=sort,\n"
          ],
          "name": "stderr"
        }
      ]
    },
    {
      "cell_type": "code",
      "metadata": {
        "id": "q4a35sYqeqLu",
        "colab_type": "code",
        "outputId": "5bc92ea8-b27e-4d34-bc55-985c169da6bb",
        "colab": {
          "base_uri": "https://localhost:8080/",
          "height": 425
        }
      },
      "source": [
        "k = 70\n",
        "p= 0.01*np.random.rand(np.max(uniquex)+1,k)\n",
        "q = 0.01*np.random.rand(np.max(uniquey)+1,k)\n",
        "bu= 0.01*np.random.rand(np.max(uniquex)+1,1)\n",
        "bm = 0.01*np.random.rand(np.max(uniquey)+1,1)\n",
        "\n",
        "epochs = 12\n",
        "alpha = 0.005\n",
        "beta = .02\n",
        "mu = np.mean(rating.values)\n",
        "\n",
        "for epoch in range(epochs):\n",
        "  mse=0\n",
        "  unknown=0\n",
        "  for u,m,r in zip(uid,mid,rating):\n",
        "   \n",
        "    e = r - (np.dot(p[u],q[m])+mu + bu[u] + bm[m])\n",
        "    p[u] = p[u] + alpha*(2*e*q[m]-beta*p[u])\n",
        "    q[m] = q[m]  + alpha*(2*e*p[u]-beta*q[m])\n",
        "    bu[u] = bu[u] +alpha*(e-beta*bu[u])\n",
        "    bm[m] = bm[m] +alpha*(e-beta*bm[m])\n",
        "#     mu = mu + alpha*(e - beta(bu[u]+bm[m]))\n",
        "    mse += (r - (np.dot(p[u],q[m])+mu + bu[u] + bm[m]))**2\n",
        "  \n",
        "  print(\"epoch\"+str(epoch)+\" MSE \"+str(mse/float(len(train))))\n",
        "  validmse = 0\n",
        "  cnt=0\n",
        "  for u,m,r in zip(uidvalid,midvalid,ratingvalid):\n",
        "\n",
        "    if u not in userset and m not in movieset:\n",
        "      if m in cheeku:\n",
        "        summ = 0\n",
        "        m = movieToindex[m]\n",
        "        readylist = [indexTomovie[x] for x in kbest[m]]\n",
        "        bstcount = 0\n",
        "        for bstmov in readylist:\n",
        "          if bstmov in movieset:\n",
        "            summ = summ + bm[bstmov]\n",
        "            bstcount = bstcount + 1\n",
        "        \n",
        "        mymean = summ/bstcount\n",
        "        validmse+= (r-mymean-mu)**2\n",
        "      else:\n",
        "        validmse+= (r-mu)**2\n",
        "      \n",
        "    elif u not in userset:\n",
        "      validmse += (r - mu  - bm[m])**2\n",
        "    elif m not in movieset:\n",
        "      if m in cheeku:\n",
        "        summ = 0\n",
        "        m = movieToindex[m]\n",
        "        readylist = [indexTomovie[x] for x in kbest[m]]\n",
        "        bstcount = 0\n",
        "        for bstmov in readylist:\n",
        "          if bstmov in movieset:\n",
        "            summ = summ + bm[bstmov]\n",
        "            bstcount = bstcount + 1\n",
        "        \n",
        "        mymean = summ/bstcount\n",
        "        validmse += (r - mu  - bu[u]-mymean)**2\n",
        "      else:\n",
        "        validmse += (r - mu  - bu[u])**2\n",
        "    else:\n",
        "      validmse += (r - (np.dot(p[u],q[m])+mu + bu[u] + bm[m]))**2\n",
        "\n",
        "  \n",
        "   \n",
        "  print(\"epoch\"+str(epoch)+\" MSE \"+str(mse/float(len(train)))+\"valid MSE \"+ str(validmse/float(len(validation)))+str(unknown)+\"unknown present\")\n",
        "\n",
        "\n",
        "\n"
      ],
      "execution_count": 5,
      "outputs": [
        {
          "output_type": "stream",
          "text": [
            "epoch0 MSE [0.72714139]\n",
            "epoch0 MSE [0.72714139]valid MSE [0.63029425]0unknown present\n",
            "epoch1 MSE [0.65262243]\n",
            "epoch1 MSE [0.65262243]valid MSE [0.58976864]0unknown present\n",
            "epoch2 MSE [0.6201583]\n",
            "epoch2 MSE [0.6201583]valid MSE [0.5558933]0unknown present\n",
            "epoch3 MSE [0.59208844]\n",
            "epoch3 MSE [0.59208844]valid MSE [0.52281339]0unknown present\n",
            "epoch4 MSE [0.56420418]\n",
            "epoch4 MSE [0.56420418]valid MSE [0.49339024]0unknown present\n",
            "epoch5 MSE [0.53778302]\n",
            "epoch5 MSE [0.53778302]valid MSE [0.46842303]0unknown present\n",
            "epoch6 MSE [0.51455696]\n",
            "epoch6 MSE [0.51455696]valid MSE [0.4471876]0unknown present\n",
            "epoch7 MSE [0.49402839]\n",
            "epoch7 MSE [0.49402839]valid MSE [0.42774488]0unknown present\n",
            "epoch8 MSE [0.47424555]\n",
            "epoch8 MSE [0.47424555]valid MSE [0.4090582]0unknown present\n",
            "epoch9 MSE [0.45455197]\n",
            "epoch9 MSE [0.45455197]valid MSE [0.39097721]0unknown present\n",
            "epoch10 MSE [0.43509467]\n",
            "epoch10 MSE [0.43509467]valid MSE [0.37349074]0unknown present\n",
            "epoch11 MSE [0.41621868]\n",
            "epoch11 MSE [0.41621868]valid MSE [0.35715358]0unknown present\n"
          ],
          "name": "stdout"
        }
      ]
    },
    {
      "cell_type": "code",
      "metadata": {
        "id": "kjc0wSp6hHys",
        "colab_type": "code",
        "colab": {}
      },
      "source": [
        "fianlPrediction = []\n",
        "count =int(0)\n",
        "for u,m in zip(uitest,mitest):\n",
        "  rett = []\n",
        "  if u not in userset and m not in movieset:\n",
        "    if m in cheeku:\n",
        "        summ = 0\n",
        "        m = movieToindex[m]\n",
        "        readylist = [indexTomovie[x] for x in kbest[m]]\n",
        "        bstcount = 0\n",
        "        for bstmov in readylist:\n",
        "          if bstmov in movieset:\n",
        "            summ = summ + bm[bstmov]\n",
        "            bstcount = bstcount + 1\n",
        "        \n",
        "        mymean = summ/bstcount\n",
        "  \n",
        "        ratee = mymean+mu\n",
        "        rett.append(int(count))\n",
        "        rett.append(ratee[0])\n",
        "        fianlPrediction.append(rett)\n",
        "        count = count +1\n",
        "        \n",
        "    else:\n",
        "      ratee = mu\n",
        "      rett.append(int(count))\n",
        "      rett.append(ratee)\n",
        "      fianlPrediction.append(rett)\n",
        "      count = count +1\n",
        "  elif u not in userset:\n",
        "    ratee =  mu+ bm[m]\n",
        "    rett.append(int(count))\n",
        "    rett.append(ratee[0])\n",
        "    fianlPrediction.append(rett)\n",
        "    count = count +1\n",
        "  elif m not in movieset:\n",
        "    if m in cheeku:\n",
        "        summ = 0\n",
        "        m = movieToindex[m]\n",
        "        readylist = [indexTomovie[x] for x in kbest[m]]\n",
        "        bstcount = 0\n",
        "        for bstmov in readylist:\n",
        "          if bstmov in movieset:\n",
        "            summ = summ + bm[bstmov]\n",
        "            bstcount = bstcount + 1\n",
        "        \n",
        "        mymean = summ/bstcount\n",
        "        \n",
        "        ratee = mu  +bu[u]+mymean\n",
        "        rett.append(int(count))\n",
        "        rett.append(ratee[0])\n",
        "        fianlPrediction.append(rett)\n",
        "        count = count +1\n",
        "    else:\n",
        "\n",
        "      ratee = mu  +bu[u]\n",
        "      rett.append(int(count))\n",
        "      rett.append(ratee[0])\n",
        "      fianlPrediction.append(rett)\n",
        "      count = count +1\n",
        "  else:\n",
        "    ratee = (np.dot(p[u],q[m])+mu + bu[u] + bm[m])\n",
        "    rett.append(int(count))\n",
        "    rett.append(ratee[0])\n",
        "    fianlPrediction.append(rett)\n",
        "    count = count +1\n",
        "    \n",
        "   \n",
        "f2 = pd.DataFrame(fianlPrediction, columns=['Id','Prediction'])\n",
        "f2.to_csv('/content/drive/My Drive/prml/latent.csv', index = False)\n",
        "\n"
      ],
      "execution_count": 0,
      "outputs": []
    },
    {
      "cell_type": "code",
      "metadata": {
        "id": "_IZocphNe1CV",
        "colab_type": "code",
        "colab": {
          "base_uri": "https://localhost:8080/",
          "height": 238
        },
        "outputId": "61513be6-8ee0-4265-933d-9d49aed5d869"
      },
      "source": [
        "!pip install pydrive"
      ],
      "execution_count": 7,
      "outputs": [
        {
          "output_type": "stream",
          "text": [
            "Requirement already satisfied: pydrive in /usr/local/lib/python3.6/dist-packages (1.3.1)\n",
            "Requirement already satisfied: oauth2client>=4.0.0 in /usr/local/lib/python3.6/dist-packages (from pydrive) (4.1.3)\n",
            "Requirement already satisfied: google-api-python-client>=1.2 in /usr/local/lib/python3.6/dist-packages (from pydrive) (1.7.11)\n",
            "Requirement already satisfied: PyYAML>=3.0 in /usr/local/lib/python3.6/dist-packages (from pydrive) (3.13)\n",
            "Requirement already satisfied: pyasn1>=0.1.7 in /usr/local/lib/python3.6/dist-packages (from oauth2client>=4.0.0->pydrive) (0.4.7)\n",
            "Requirement already satisfied: six>=1.6.1 in /usr/local/lib/python3.6/dist-packages (from oauth2client>=4.0.0->pydrive) (1.12.0)\n",
            "Requirement already satisfied: rsa>=3.1.4 in /usr/local/lib/python3.6/dist-packages (from oauth2client>=4.0.0->pydrive) (4.0)\n",
            "Requirement already satisfied: pyasn1-modules>=0.0.5 in /usr/local/lib/python3.6/dist-packages (from oauth2client>=4.0.0->pydrive) (0.2.7)\n",
            "Requirement already satisfied: httplib2>=0.9.1 in /usr/local/lib/python3.6/dist-packages (from oauth2client>=4.0.0->pydrive) (0.11.3)\n",
            "Requirement already satisfied: uritemplate<4dev,>=3.0.0 in /usr/local/lib/python3.6/dist-packages (from google-api-python-client>=1.2->pydrive) (3.0.0)\n",
            "Requirement already satisfied: google-auth-httplib2>=0.0.3 in /usr/local/lib/python3.6/dist-packages (from google-api-python-client>=1.2->pydrive) (0.0.3)\n",
            "Requirement already satisfied: google-auth>=1.4.1 in /usr/local/lib/python3.6/dist-packages (from google-api-python-client>=1.2->pydrive) (1.4.2)\n",
            "Requirement already satisfied: cachetools>=2.0.0 in /usr/local/lib/python3.6/dist-packages (from google-auth>=1.4.1->google-api-python-client>=1.2->pydrive) (3.1.1)\n"
          ],
          "name": "stdout"
        }
      ]
    }
  ]
}