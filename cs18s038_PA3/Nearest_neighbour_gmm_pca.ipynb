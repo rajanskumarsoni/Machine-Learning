{
 "cells": [
  {
   "cell_type": "markdown",
   "metadata": {
    "colab_type": "text",
    "id": "r34BNKS1K9rv"
   },
   "source": [
    "# General Instructions to students:\n",
    "\n",
    "1. There are 5 types of cells in this notebook. The cell type will be indicated within the cell.\n",
    "    1. Markdown cells with problem written in it. (DO NOT TOUCH THESE CELLS) (**Cell type: TextRead**)\n",
    "    2. Python cells with setup code for further evaluations. (DO NOT TOUCH THESE CELLS) (**Cell type: CodeRead**)\n",
    "    3. Python code cells with some template code or empty cell. (FILL CODE IN THESE CELLS BASED ON INSTRUCTIONS IN CURRENT AND PREVIOUS CELLS) (**Cell type: CodeWrite**)\n",
    "    4. Markdown cells where a written reasoning or conclusion is expected. (WRITE SENTENCES IN THESE CELLS) (**Cell type: TextWrite**)\n",
    "    5. Temporary code cells for convenience and TAs. (YOU MAY DO WHAT YOU WILL WITH THESE CELLS, TAs WILL REPLACE WHATEVER YOU WRITE HERE WITH OFFICIAL EVALUATION CODE) (**Cell type: Convenience**)\n",
    "    \n",
    "2. You are not allowed to insert new cells in the submitted notebook.\n",
    "\n",
    "3. You are not allowed to import any extra packages.\n",
    "\n",
    "4. The code is to be written in Python 3.6 syntax. Latest versions of other packages maybe assumed.\n",
    "\n",
    "5. In CodeWrite Cells, the only outputs to be given are plots asked in the question. Nothing else to be output/print. \n",
    "\n",
    "6. If TextWrite cells ask you to give accuracy/error/other numbers you can print them on the code cells, but remove the print statements before submitting.\n",
    "\n",
    "7. The convenience code can be used to check the expected syntax of the functions. At a minimum, your entire notebook must run with \"run all\" with the convenience cells as it is. Any runtime failures on the submitted notebook as it is will get zero marks.\n",
    "\n",
    "8. All code must be written by yourself. Copying from other students/material on the web is strictly prohibited. Any violations will result in zero marks.\n",
    "\n",
    "9. All datasets will be given as .npz files, and will contain data in 4 numpy arrays :\"X_train, Y_train, X_test, Y_test\". In that order. The meaning of the 4 arrays can be easily inferred from their names.\n",
    "\n",
    "10. All plots must be labelled properly, all tables must have rows and columns named properly."
   ]
  },
  {
   "cell_type": "code",
   "execution_count": 0,
   "metadata": {
    "colab": {},
    "colab_type": "code",
    "id": "zVLvWH9aK9ry"
   },
   "outputs": [],
   "source": [
    "import numpy as np\n",
    "import matplotlib.pyplot as plt\n",
    "import pandas as pd\n",
    "import json"
   ]
  },
  {
   "cell_type": "code",
   "execution_count": 0,
   "metadata": {
    "colab": {},
    "colab_type": "code",
    "id": "DE_MpPDVK9r3"
   },
   "outputs": [],
   "source": [
    "#CodeRead\n",
    "\n",
    "data_folder = '../Data_contest/dataset/'\n",
    "\n",
    "\n",
    "genome_scores_df=pd.read_csv(data_folder+'genome_scores.csv') # Large (500MB)\n",
    "movies_df=pd.read_csv(data_folder+'movies.csv')\n",
    "train_df=pd.read_csv(data_folder+'train.csv') # Large 500MB\n",
    "validation_df = pd.read_csv(data_folder+'validation.csv') \n",
    "\n",
    "\n",
    "\n",
    "\n",
    "\n",
    "\n"
   ]
  },
  {
   "cell_type": "code",
   "execution_count": 0,
   "metadata": {
    "colab": {},
    "colab_type": "code",
    "id": "YpEKADpeK9r9"
   },
   "outputs": [],
   "source": [
    "#CodeRead\n",
    "\n",
    "# create movie rating dataset from train\n",
    "\n",
    "# Feature vector for the 10000 movies, each with a 1128 dimensional vector. \n",
    "# If a movie doesn't appear in genome_scores we make it simply the 0 vector.\n",
    "X=np.zeros((10000,1128)) \n",
    "movies_with_featvecs=set(genome_scores_df['movieId'])\n",
    "# The average rating, for each of the movies in the training set. \n",
    "# -1 if it is not in the train set.\n",
    "rating_movies = -1*np.ones(10000) \n",
    "\n",
    "# Each movie, is labelled +1 or -1 based on whetherr it is a comedy or not\n",
    "comedy = np.zeros(10000) \n",
    "\n",
    "for i in range(10000):\n",
    "    if i not in movies_with_featvecs:\n",
    "        continue\n",
    "    temp = genome_scores_df[genome_scores_df['movieId']==i]\n",
    "    feat_vec= np.array(temp['relevance'])\n",
    "    X[i,:]=feat_vec\n",
    "\n",
    "for i in range(10000):\n",
    "    temp = train_df[train_df['movieId']==i]\n",
    "    if len(temp)==0:\n",
    "        continue\n",
    "    ratings_curr_movies = temp['rating']\n",
    "    rating_movies[i] = np.mean(ratings_curr_movies)\n",
    "\n",
    "for i in range(10000):\n",
    "    temp = movies_df[movies_df['movieId']==i]\n",
    "    if len(temp)==0:\n",
    "        continue\n",
    "    temp = temp['genres'].values[0]\n",
    "    temp = temp.split('|')\n",
    "    comedy[i] = 'Comedy' in temp\n",
    "    comedy[i] = 2*comedy[i] -1\n"
   ]
  },
  {
   "cell_type": "code",
   "execution_count": 0,
   "metadata": {
    "colab": {},
    "colab_type": "code",
    "id": "YoDw9ihXK9sC"
   },
   "outputs": [],
   "source": [
    "np.array(train_df['rating']).mean()"
   ]
  },
  {
   "cell_type": "markdown",
   "metadata": {
    "colab_type": "text",
    "id": "_iUHI6__K9sG"
   },
   "source": [
    "# Problem 1. K-Nearest Neighbours\n",
    "\n",
    "Run k-Nearest neighbours on the binary classification dataset below, for classifiying whether a given movie is a comedy or not. The train and test feature vectors are given by X_train, X_test and the train and test ratings are Y_train and Y_test. \n",
    "\n",
    "Run k-Nearest neighbours for different k values (1,2,4,8,16,32,64) and report accuracies in the next cell. "
   ]
  },
  {
   "cell_type": "code",
   "execution_count": 0,
   "metadata": {
    "colab": {},
    "colab_type": "code",
    "id": "UhALa6rdK9sI"
   },
   "outputs": [],
   "source": [
    "#CodeWrite cell\n",
    "\n",
    "X_train = np.array(X[:8000,])\n",
    "X_test = np.array(X[8000:])\n",
    "\n",
    "Y_train=np.array(comedy[:8000])\n",
    "Y_test=np.array(comedy[:8000])\n",
    "\n"
   ]
  },
  {
   "cell_type": "markdown",
   "metadata": {
    "colab_type": "text",
    "id": "5HoA9aguK9sM"
   },
   "source": [
    "TextWrite cell. Report test accuracies for different k here.\n",
    "\n",
    "\n"
   ]
  },
  {
   "cell_type": "markdown",
   "metadata": {
    "colab_type": "text",
    "id": "enPeSUZzK9sN"
   },
   "source": [
    "# Problem 2: PCA and regression\n",
    "\n",
    "Take the regression dataset below, and perform linear regression after doing PCA on the feature vector. \n",
    "\n",
    "For each K in [4,32,256,1024] take the top k components and report the mean squared error on the test set below. \n",
    "\n",
    "For each K you can choose the regularisation hyperparameter $\\lambda$ for linear regression using a 80-20 split of the training set. \n",
    "\n",
    "For each K above, report the best lambda and the mean squared error for this best lambda in the cell below the next.\n",
    "\n",
    "\n"
   ]
  },
  {
   "cell_type": "code",
   "execution_count": 0,
   "metadata": {
    "colab": {},
    "colab_type": "code",
    "id": "9ZXfKf6RK9sO"
   },
   "outputs": [],
   "source": [
    "# CodeWrite\n",
    "\n",
    "X_all = X[rating_movies>0]\n",
    "Y_all = rating_movies[rating_movies>0]\n",
    "\n",
    "X_train = np.array(X_all[:7000])\n",
    "Y_train = np.array(Y_all[:7000])\n",
    "X_test = np.array(X_all[7000:])\n",
    "Y_test = np.array(Y_all[7000:])\n",
    "\n",
    "\n",
    "\n"
   ]
  },
  {
   "cell_type": "markdown",
   "metadata": {
    "colab_type": "text",
    "id": "taVkHSN2K9sS"
   },
   "source": [
    "TextWrite cell. Report best lambda and the mean squared error on the test set, for different K here.\n"
   ]
  },
  {
   "cell_type": "markdown",
   "metadata": {
    "colab_type": "text",
    "id": "MGsrm0CkK9sU"
   },
   "source": [
    "# Problem 3: Baseline methods for collaborative filtering\n",
    "\n",
    "Run the baseline methods discussed in class for collaborative filtering. Use the old train.csv to train and the newly provided validation.csv to report your mean squared errors. \n"
   ]
  },
  {
   "cell_type": "code",
   "execution_count": 0,
   "metadata": {
    "colab": {},
    "colab_type": "code",
    "id": "oJ1O6QJ1K9sV"
   },
   "outputs": [],
   "source": [
    "#CodeWrite\n"
   ]
  },
  {
   "cell_type": "markdown",
   "metadata": {
    "colab_type": "text",
    "id": "C6lsxgBtK9sa"
   },
   "source": [
    "Textwrite. Give the MSE on the validation set for the baseline method.\n",
    "\n"
   ]
  },
  {
   "cell_type": "markdown",
   "metadata": {
    "colab_type": "text",
    "id": "sjNET4NeK9sd"
   },
   "source": [
    "# Problem 4. EM algorithm for Gaussian Mixture models\n",
    "\n",
    "Take below 2 dimensional data, and run the GMM algorithm with k=3 components. The data is in the variable X, each row represents a data point.\n",
    "\n",
    "Give the estimate of mean, covariance and component weights of all three components in the text cell after the next.\n",
    "\n"
   ]
  },
  {
   "cell_type": "code",
   "execution_count": 0,
   "metadata": {
    "colab": {
     "base_uri": "https://localhost:8080/",
     "height": 286
    },
    "colab_type": "code",
    "executionInfo": {
     "elapsed": 1592,
     "status": "ok",
     "timestamp": 1555763519441,
     "user": {
      "displayName": "Rajan Kumar Soni cs18s038",
      "photoUrl": "",
      "userId": "04644016928599478302"
     },
     "user_tz": -330
    },
    "id": "u9e0pFMjK9sf",
    "outputId": "b142972a-55ce-47bb-ecb2-d06d3459f4d1"
   },
   "outputs": [
    {
     "name": "stdout",
     "output_type": "stream",
     "text": [
      "[7.39307931 6.56139693]\n"
     ]
    },
    {
     "data": {
      "image/png": "[encoded data removed]",
      "text/plain": [
       "<Figure size 432x288 with 1 Axes>"
      ]
     },
     "metadata": {
      "tags": []
     },
     "output_type": "display_data"
    }
   ],
   "source": [
    "#CodeRead. Do not touch this cell.\n",
    "import numpy as np\n",
    "import matplotlib.pyplot as plt\n",
    "import pandas as pd\n",
    "np.random.seed(123)\n",
    "mu1=np.array([[1.,1]])\n",
    "mu2=np.array([[3.,5.]])\n",
    "mu3=np.array([[5.,0.]])\n",
    "\n",
    "Sigma1=np.array([[1.,0.],[0.,1.]])\n",
    "Sigma2=np.array([[3.,0.],[0.,0.3]])\n",
    "Sigma3=np.array([[1.,0.],[0.,1.]])\n",
    "\n",
    "A1=np.linalg.cholesky(Sigma1)\n",
    "A2=np.linalg.cholesky(Sigma2)\n",
    "A3=np.linalg.cholesky(Sigma3)\n",
    "\n",
    "\n",
    "X1=np.dot(np.random.randn(500,2),A1)+mu1\n",
    "X2=np.dot(np.random.randn(500,2),A2)+mu2\n",
    "X3=np.dot(np.random.randn(500,2),A1)+mu3\n",
    "\n",
    "plt.axis('equal')\n",
    "plt.scatter(X1[:,0],X1[:,1])\n",
    "plt.scatter(X2[:,0],X2[:,1])\n",
    "plt.scatter(X3[:,0],X3[:,1])\n",
    "\n",
    "\n",
    "X=np.concatenate((X1,X2,X3),axis=0)\n",
    "\n",
    "np.random.shuffle(X)\n",
    "del mu1\n",
    "del mu2\n",
    "del mu3\n",
    "del Sigma1\n",
    "del Sigma2\n",
    "del Sigma3\n",
    "print(np.max(X,axis = 0))"
   ]
  },
  {
   "cell_type": "code",
   "execution_count": 0,
   "metadata": {
    "colab": {
     "base_uri": "https://localhost:8080/",
     "height": 1083
    },
    "colab_type": "code",
    "executionInfo": {
     "elapsed": 14525,
     "status": "ok",
     "timestamp": 1555774284019,
     "user": {
      "displayName": "Rajan Kumar Soni cs18s038",
      "photoUrl": "",
      "userId": "04644016928599478302"
     },
     "user_tz": -330
    },
    "id": "HsURB-DgK9sl",
    "outputId": "b659c438-bc85-49cd-adbf-e6d5a3ae4353"
   },
   "outputs": [
    {
     "name": "stdout",
     "output_type": "stream",
     "text": [
      "[0.2487664  0.08830555 0.66292805]\n",
      "[0.23041548 0.10106701 0.66851752]\n",
      "[0.22637867 0.1143158  0.65930553]\n",
      "[0.22772686 0.12710467 0.64516847]\n",
      "[0.23189903 0.13928502 0.62881595]\n",
      "[0.23823809 0.15088739 0.61087452]\n",
      "[0.24656952 0.1622519  0.59117858]\n",
      "[0.25567832 0.17559832 0.56872336]\n",
      "[0.25909499 0.20009159 0.54081342]\n",
      "[0.25061817 0.23826205 0.51111979]\n",
      "[0.23718132 0.27428242 0.48853627]\n",
      "[0.22268001 0.30450808 0.47281191]\n",
      "[0.21609025 0.32286224 0.46104751]\n",
      "[0.22155693 0.33080131 0.44764177]\n",
      "[0.23349793 0.33332232 0.43317974]\n",
      "[0.24721746 0.33397134 0.4188112 ]\n",
      "[0.26106174 0.33415157 0.40478669]\n",
      "[0.27434645 0.33421032 0.39144323]\n",
      "[0.28661027 0.33423445 0.37915527]\n",
      "[0.29750527 0.33424882 0.36824591]\n",
      "[0.30677424 0.33426048 0.35896528]\n",
      "[0.31428382 0.33427108 0.3514451 ]\n",
      "[0.32007898 0.33428062 0.3456404 ]\n",
      "[0.32437771 0.33428864 0.34133364]\n",
      "[0.32748491 0.33429484 0.33822025]\n",
      "[0.3296992  0.33429934 0.33600146]\n",
      "[0.33126651 0.33430249 0.334431  ]\n",
      "[0.33237275 0.33430468 0.33332258]\n",
      "[0.3331528 0.3343062 0.332541 ]\n",
      "[0.33370278 0.33430726 0.33198996]\n",
      "[0.33409061 0.33430801 0.33160138]\n",
      "[0.33436417 0.33430853 0.3313273 ]\n",
      "[0.33455718 0.3343089  0.33113392]\n",
      "[0.33469339 0.33430916 0.33099746]\n",
      "[0.33478952 0.33430934 0.33090114]\n",
      "[0.33485738 0.33430947 0.33083315]\n",
      "[0.33490528 0.33430956 0.33078516]\n",
      "[0.3349391  0.33430962 0.33075127]\n",
      "[0.33496298 0.33430967 0.33072735]\n",
      "[0.33497984 0.3343097  0.33071046]\n",
      "[0.33499175 0.33430972 0.33069853]\n",
      "[0.33500015 0.33430974 0.33069011]\n",
      "[0.33500609 0.33430975 0.33068416]\n",
      "[0.33501028 0.33430976 0.33067996]\n",
      "[0.33501324 0.33430976 0.330677  ]\n",
      "[0.33501533 0.33430977 0.3306749 ]\n",
      "[0.3350168  0.33430977 0.33067343]\n",
      "[0.33501785 0.33430977 0.33067238]\n",
      "[0.33501858 0.33430977 0.33067165]\n",
      "[0.3350191  0.33430977 0.33067113]\n",
      "(array([[0.97820158, 0.94156684],\n",
      "       [2.98449442, 5.00983808],\n",
      "       [5.00399982, 0.03310815]]), array([[[ 1.07216057, -0.00863107],\n",
      "        [-0.00863107,  0.96634115]],\n",
      "\n",
      "       [[ 2.82427795,  0.00670476],\n",
      "        [ 0.00670476,  0.27035455]],\n",
      "\n",
      "       [[ 0.96928108,  0.09717377],\n",
      "        [ 0.09717377,  0.94752136]]]), array([0.3350191 , 0.33430977, 0.33067113]))\n"
     ]
    }
   ],
   "source": [
    "#CodeWrite\n",
    "import math\n",
    "mean1 = [2.0,3.0]\n",
    "mean2 = [3.0,4.0]\n",
    "mean3 = [4.0,5.0]\n",
    "mean = []\n",
    "mean.append(mean1)\n",
    "mean.append(mean2)\n",
    "mean.append(mean3)\n",
    "\n",
    "mean = np.array(mean)\n",
    "\n",
    "variance1 = [[1.0,3.0],[2.0,9.0]]\n",
    "variance2 = [[9.0,0.9],[5.0,9.0]]\n",
    "variance3 = [[10.0,9.0],[8.0,4.0]]\n",
    "variance = []\n",
    "variance.append(variance1)\n",
    "variance.append(variance2)\n",
    "variance.append(variance3)\n",
    "\n",
    "variance = np.array(variance)\n",
    "\n",
    "prior1 = 0.5\n",
    "prior2 = 0.2\n",
    "prior3 = 0.3\n",
    "\n",
    "prior = []\n",
    "prior.append(prior1)\n",
    "prior.append(prior2)\n",
    "prior.append(prior3)\n",
    "\n",
    "prior = np.array(prior)\n",
    "\n",
    "threshold = .000005\n",
    "\n",
    "def shouldIstop(meanold, meannew):\n",
    "  sum=0.0\n",
    "  for i  in range(len(meannew)):\n",
    "    for j in range(2):\n",
    "      sum=sum + (meanold[i][j]- meannew[i][j])**2\n",
    "#   print(\"qdbqbdkewbdkwedbjke\",sum)\n",
    "  sum = sum**.5\n",
    "#   print(sum)\n",
    "  if sum<threshold:\n",
    "    return True\n",
    "  else:\n",
    "    return False\n",
    "    \n",
    "  \n",
    "def probability_function(data_point,mu,sigma):\n",
    "#     print(mu,sigma)\n",
    "    x_minus_mu = np.subtract(data_point,mu)\n",
    "    x_minus_mu_transpose = np.subtract(data_point,mu).T\n",
    "    sigma_inverse = np.linalg.inv(sigma)\n",
    "    product = np.dot(x_minus_mu_transpose,sigma_inverse)\n",
    "    liklihood =(1.0/(np.sqrt(np.absolute(np.linalg.det(sigma)))))*math.exp(-0.5*np.dot(product,x_minus_mu ))\n",
    "#     print(liklihood)\n",
    "    return liklihood\n",
    "\n",
    "count = 0\n",
    "def calculate_new(mean,variance,prior):\n",
    "  \n",
    "    global X\n",
    "    pointProbabilityinclass = []\n",
    "    for data in X:\n",
    "      l = []\n",
    "      for k in range(3):\n",
    "        c1 = probability_function(data,mean[k],variance[k])*prior[k]\n",
    "        l.append(c1)\n",
    "      c= l[0]+l[1]+l[2]\n",
    "      bro = []\n",
    "      for p in l:\n",
    "        bro.append(p/c)\n",
    "      pointProbabilityinclass.append(bro)\n",
    "#     print(pointProbabilityinclass)\n",
    "\n",
    "    s1 = 0.0\n",
    "    s2 = 0.0\n",
    "    s3=0.0\n",
    "    p1=np.array([0.0,0.0])\n",
    "    p2=np.array([0.0,0.0])\n",
    "    p3=np.array([0.0,0.0])\n",
    "    for  i in range(len(X)):\n",
    "      s1 = s1 + pointProbabilityinclass[i][0]\n",
    "      s2 = s2 + pointProbabilityinclass[i][1]\n",
    "      s3 = s3 + pointProbabilityinclass[i][2]\n",
    "\n",
    "      p1 = np.add(p1,np.array(X[i])*pointProbabilityinclass[i][0])\n",
    "      p2 = np.add(p2,np.array(X[i])*pointProbabilityinclass[i][1])\n",
    "      p3 = np.add(p3,np.array(X[i])*pointProbabilityinclass[i][2])\n",
    "      \n",
    "\n",
    "\n",
    "    pi1 = s1/len(X)\n",
    "    pi2 = s2/len(X)\n",
    "    pi3 = s3/len(X)\n",
    "    mu1 = p1/s1\n",
    "    mu2 = p2/s2\n",
    "    mu3 = p3/s3\n",
    "\n",
    "    r1=np.array([[0.0,0.0],[0.0,0.0]])\n",
    "    r2=np.array([[0.0,0.0],[0.0,0.0]])\n",
    "    r3=np.array([[0.0,0.0],[0.0,0.0]])\n",
    "    for i in range(len(X)):\n",
    "      yo = np.asmatrix(np.subtract(np.array(X[i]),np.array(mu1)))\n",
    "      yo_transpose = yo.T\n",
    "      jo = np.matmul(yo_transpose,yo)\n",
    "      r1 = np.add(r1,pointProbabilityinclass[i][0]*(jo))\n",
    "      \n",
    "      \n",
    "      yo = np.asmatrix(np.subtract(np.array(X[i]),np.array(mu2)))\n",
    "      yo_transpose = yo.T\n",
    "      jo = np.matmul(yo_transpose,yo)\n",
    "      r2 = np.add(r2,pointProbabilityinclass[i][1]*(jo))\n",
    "      \n",
    "      \n",
    "      yo = np.asmatrix(np.subtract(np.array(X[i]),np.array(mu3)))\n",
    "      yo_transpose = yo.T\n",
    "      jo = np.matmul(yo_transpose,yo)\n",
    "      r3 = np.add(r3,pointProbabilityinclass[i][2]*(jo))\n",
    "     \n",
    "\n",
    "    sigm1 = np.array(r1)/s1\n",
    "    sigm2 = np.array(r2)/s2\n",
    "    sigm3 = np.array(r3)/s3\n",
    "    meannew =[] \n",
    "    meannew.append(mu1)\n",
    "    meannew.append(mu2)\n",
    "    meannew.append(mu3)\n",
    "    meannew = np.array(meannew)\n",
    "#     print(\"mean\",meannew)\n",
    "    variance =[]\n",
    "    variance.append(sigm1)\n",
    "    variance.append(sigm2)\n",
    "    variance.append(sigm3)\n",
    "    variance = np.array(variance)\n",
    "#     print(\"variance\",variance)\n",
    "    prior = []\n",
    "    prior.append(pi1)\n",
    "    prior.append(pi2)\n",
    "    prior.append(pi3)\n",
    "    prior = np.array(prior)\n",
    "#     print(\"prior\",prior)\n",
    "\n",
    "    return meannew, variance,prior\n",
    "\n",
    "    \n",
    "    \n",
    "        \n",
    "def EMAlgorithm(mean,variance, prior):\n",
    "\n",
    "  meannew ,variancenew, priornew = calculate_new(mean,variance,prior)\n",
    "  print(priornew)\n",
    "#   print(\"EM\",meannew ,variancenew, priornew)\n",
    "  if shouldIstop(mean,meannew) :\n",
    "      return meannew,variancenew,priornew\n",
    "  else:\n",
    "      return EMAlgorithm(meannew,variancenew, priornew)\n",
    "      \n",
    "      \n",
    "      \n",
    "x = EMAlgorithm(mean,variance, prior)\n",
    "print(x)\n",
    "      \n",
    "  \n",
    "  \n",
    "        \n",
    "          \n",
    "        \n",
    "          \n",
    "        \n",
    "      \n",
    "  \n",
    "  \n",
    "  \n"
   ]
  },
  {
   "cell_type": "code",
   "execution_count": 0,
   "metadata": {
    "colab": {
     "base_uri": "https://localhost:8080/",
     "height": 212
    },
    "colab_type": "code",
    "executionInfo": {
     "elapsed": 1143,
     "status": "ok",
     "timestamp": 1555768301905,
     "user": {
      "displayName": "Rajan Kumar Soni cs18s038",
      "photoUrl": "",
      "userId": "04644016928599478302"
     },
     "user_tz": -330
    },
    "id": "xlyx5WnA-Oog",
    "outputId": "68be6933-461a-41f0-b650-9f9bd1aa9d1b"
   },
   "outputs": [
    {
     "name": "stdout",
     "output_type": "stream",
     "text": [
      "[2 7] [[3 7]\n",
      " [8 0]]\n",
      "x_minus_mu [ 0 -3]\n",
      "x_minus_mu_transpose [ 0 -3]\n",
      "sigma_inverse [[ 0.          0.125     ]\n",
      " [ 0.14285714 -0.05357143]]\n",
      "product [-0.42857143  0.16071429]\n",
      "det -55.99999999999997\n",
      "sq 7.483314773547881\n",
      "liklihood 0.1700599228316098\n",
      "0.1700599228316098\n"
     ]
    }
   ],
   "source": [
    "  \n",
    "def probability_function(data_point,mu,sigma):\n",
    "    print(mu,sigma)\n",
    "    x_minus_mu = np.subtract(data_point,mu)\n",
    "    print(\"x_minus_mu\",x_minus_mu)\n",
    "    x_minus_mu_transpose = np.subtract(data_point,mu).T\n",
    "    print(\"x_minus_mu_transpose\",x_minus_mu_transpose)\n",
    "    sigma_inverse = np.linalg.inv(sigma)\n",
    "    print(\"sigma_inverse\",sigma_inverse)\n",
    "    \n",
    "    product = np.dot(x_minus_mu_transpose,sigma_inverse)\n",
    "    print(\"product\",product)\n",
    "    det = np.linalg.det(sigma)\n",
    "    print(\"det\",det)\n",
    "    sq = np.sqrt(np.absolute(det))\n",
    "    print(\"sq\",sq)\n",
    "    liklihood =(1.0/(sq))*math.exp(-0.5*np.dot(product,x_minus_mu ))\n",
    "    print(\"liklihood\",liklihood)\n",
    "    return liklihood\n",
    "x = probability_function(np.array([2,4]),np.array([2,7]),np.array([[3,7],[8,0]]))\n",
    "print(x)"
   ]
  },
  {
   "cell_type": "code",
   "execution_count": 0,
   "metadata": {
    "colab": {
     "base_uri": "https://localhost:8080/",
     "height": 123
    },
    "colab_type": "code",
    "executionInfo": {
     "elapsed": 1109,
     "status": "ok",
     "timestamp": 1555769909526,
     "user": {
      "displayName": "Rajan Kumar Soni cs18s038",
      "photoUrl": "",
      "userId": "04644016928599478302"
     },
     "user_tz": -330
    },
    "id": "oMiQ0UmAZdYl",
    "outputId": "5566f052-34b5-488a-bc93-c53ce3791580"
   },
   "outputs": [
    {
     "name": "stdout",
     "output_type": "stream",
     "text": [
      "[[1 2]\n",
      " [3 4]]\n",
      "[[ 7 10]\n",
      " [15 22]]\n",
      "[[ 7 10]\n",
      " [15 22]]\n"
     ]
    }
   ],
   "source": [
    "import numpy as np\n",
    "r = np.array([[1,2],[3,4]])\n",
    "b = np.array([[1,2],[3,4]])\n",
    "print(b)\n",
    "c = np.dot(r,b)\n",
    "print(c)\n",
    "d = np.matmul(r,b)\n",
    "print(d)"
   ]
  },
  {
   "cell_type": "markdown",
   "metadata": {
    "colab_type": "text",
    "id": "wzkqPYBMK9sq"
   },
   "source": [
    "TextWrite. Give the estimated $\\pi_k$, $\\mu_k$ and $\\Sigma_k$ for $k\\in\\{1,2,3\\}$\n",
    "\n",
    "\n",
    "|                        | $\\mu_k$                                    |                     $\\Sigma_k$       |   $\\pi_k$       | \n",
    "|---------------------|------------------------------------------------|-----------------------------------------------|--------------------|\n",
    "|K1                   |  [0.97820158, 0.94156684]     |  [1.07216057, -0.00863107]  | 0.3350191  |\n",
    "|                        |                                                      |  [-0.00863107,  0.96634115] |                      |\n",
    "|K2                   |  [2.98449442, 5.00983808]     | [ 2.82427795,  0.00670476]  |0.33430977 |\n",
    "|                        |                                                      |[ 0.00670476,  0.27035455]  |                       |\n",
    "|K3                   |  [5.00399982, 0.03310815]     | [ 0.96928108,  0.09717377]] |0.33067113 |\n",
    "|                        |                                                      | [ 0.09717377,  0.94752136]  |                      |\n",
    "\n",
    "\n"
   ]
  }
 ],
 "metadata": {
  "accelerator": "GPU",
  "colab": {
   "collapsed_sections": [],
   "name": "Prog_ass3_student.ipynb",
   "provenance": [],
   "version": "0.3.2"
  },
  "kernelspec": {
   "display_name": "Python 3",
   "language": "python",
   "name": "python3"
  },
  "language_info": {
   "codemirror_mode": {
    "name": "ipython",
    "version": 3
   },
   "file_extension": ".py",
   "mimetype": "text/x-python",
   "name": "python",
   "nbconvert_exporter": "python",
   "pygments_lexer": "ipython3",
   "version": "3.7.4"
  },
  "toc": {
   "base_numbering": 1,
   "nav_menu": {},
   "number_sections": true,
   "sideBar": true,
   "skip_h1_title": false,
   "title_cell": "Table of Contents",
   "title_sidebar": "Contents",
   "toc_cell": false,
   "toc_position": {},
   "toc_section_display": true,
   "toc_window_display": false
  },
  "varInspector": {
   "cols": {
    "lenName": 16,
    "lenType": 16,
    "lenVar": 40
   },
   "kernels_config": {
    "python": {
     "delete_cmd_postfix": "",
     "delete_cmd_prefix": "del ",
     "library": "var_list.py",
     "varRefreshCmd": "print(var_dic_list())"
    },
    "r": {
     "delete_cmd_postfix": ") ",
     "delete_cmd_prefix": "rm(",
     "library": "var_list.r",
     "varRefreshCmd": "cat(var_dic_list()) "
    }
   },
   "types_to_exclude": [
    "module",
    "function",
    "builtin_function_or_method",
    "instance",
    "_Feature"
   ],
   "window_display": false
  }
 },
 "nbformat": 4,
 "nbformat_minor": 1
}
